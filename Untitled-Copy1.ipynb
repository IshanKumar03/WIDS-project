{
 "cells": [
  {
   "cell_type": "code",
   "execution_count": 90,
   "id": "9d3562bd",
   "metadata": {},
   "outputs": [],
   "source": [
    "import numpy as np\n",
    "import pandas as pd\n",
    "df=pd.read_csv('dataset (1).csv')\n",
    "import seaborn as sns\n",
    "data=df.drop(['PGTM','TAVG','WT01','WT02','WT08','STATION','NAME'],axis=1)\n",
    "data.isnull().sum()\n",
    "data['TMIN']=data['TMIN']/79\n",
    "data['TMAX']=data['TMAX']/111\n",
    "data['AWND']=data['AWND']/8.05"
   ]
  },
  {
   "cell_type": "code",
   "execution_count": 91,
   "id": "5b7b1bcc",
   "metadata": {},
   "outputs": [
    {
     "name": "stdout",
     "output_type": "stream",
     "text": [
      "457\n"
     ]
    }
   ],
   "source": [
    "data['Occurence']=data['PRCP']\n",
    "data.loc[data['PRCP']>0,['Occurence']]='1'\n",
    "data.loc[data['PRCP']==0,['Occurence']]='0'\n",
    "data['AWND']=data['AWND'].fillna(1.12)\n",
    "import matplotlib.pyplot as plt\n",
    "from sklearn.model_selection import train_test_split\n",
    "x_train,x_test,data1,y_test=train_test_split(data.loc[:,['AWND']],data)\n",
    "from imblearn.over_sampling import SMOTE\n",
    "sm=SMOTE(random_state=4)\n",
    "y=np.array(data1['Occurence'])\n",
    "x=np.array(data1['DATE'].index)\n",
    "y1=y.reshape(-1,1)\n",
    "x1=x.reshape(-1,1)\n",
    "x2,y2=sm.fit_resample(x1,y1)\n",
    "print(len(x_test))"
   ]
  },
  {
   "cell_type": "code",
   "execution_count": 92,
   "id": "b5466bd1",
   "metadata": {},
   "outputs": [
    {
     "data": {
      "text/plain": [
       "1.0"
      ]
     },
     "execution_count": 92,
     "metadata": {},
     "output_type": "execute_result"
    }
   ],
   "source": [
    "data1=data1.drop(['DATE'],axis=1)\n",
    "data1.isnull().sum()\n",
    "data1['AWND']=data1['AWND']/data1['AWND'].max()\n",
    "data1['WDF2']=data1['WDF2']/data1['WDF2'].max()\n",
    "data1['WDF5']=data1['WDF5']/data1['WDF5'].max()\n",
    "data1['WSF2']=data1['WSF2']/data1['WSF2'].max()\n",
    "data1['WSF5']=data1['WSF5']/data1['WSF5'].max()\n",
    "data1['TMAX'].max()"
   ]
  },
  {
   "cell_type": "code",
   "execution_count": 93,
   "id": "e862b4b8",
   "metadata": {},
   "outputs": [],
   "source": [
    "\n",
    "from sklearn.feature_selection import chi2\n",
    "x=data1.drop(['PRCP'],axis=1)\n",
    "y=data1['PRCP']\n",
    "data1['AWND']=data1['AWND'].fillna(1.12/8.05)\n",
    "data1['WDF2']=data1['WDF2'].fillna(270/360)\n",
    "data1['WDF5']=data1['WDF5'].fillna(270/360)\n",
    "data1['WSF2']=data1['WSF2'].fillna(8.9/21)\n",
    "data1['WSF5']=data1['WSF5'].fillna(14.1/34)"
   ]
  },
  {
   "cell_type": "code",
   "execution_count": 94,
   "id": "ac1deaff",
   "metadata": {},
   "outputs": [
    {
     "data": {
      "text/html": [
       "<div>\n",
       "<style scoped>\n",
       "    .dataframe tbody tr th:only-of-type {\n",
       "        vertical-align: middle;\n",
       "    }\n",
       "\n",
       "    .dataframe tbody tr th {\n",
       "        vertical-align: top;\n",
       "    }\n",
       "\n",
       "    .dataframe thead th {\n",
       "        text-align: right;\n",
       "    }\n",
       "</style>\n",
       "<table border=\"1\" class=\"dataframe\">\n",
       "  <thead>\n",
       "    <tr style=\"text-align: right;\">\n",
       "      <th></th>\n",
       "      <th>AWND</th>\n",
       "      <th>TMAX</th>\n",
       "      <th>TMIN</th>\n",
       "      <th>Occurence</th>\n",
       "    </tr>\n",
       "  </thead>\n",
       "  <tbody>\n",
       "    <tr>\n",
       "      <th>108</th>\n",
       "      <td>0.198536</td>\n",
       "      <td>0.801802</td>\n",
       "      <td>0.746835</td>\n",
       "      <td>0</td>\n",
       "    </tr>\n",
       "    <tr>\n",
       "      <th>1656</th>\n",
       "      <td>0.222937</td>\n",
       "      <td>0.729730</td>\n",
       "      <td>0.810127</td>\n",
       "      <td>0</td>\n",
       "    </tr>\n",
       "    <tr>\n",
       "      <th>1051</th>\n",
       "      <td>0.148625</td>\n",
       "      <td>0.648649</td>\n",
       "      <td>0.734177</td>\n",
       "      <td>0</td>\n",
       "    </tr>\n",
       "    <tr>\n",
       "      <th>1529</th>\n",
       "      <td>0.272848</td>\n",
       "      <td>0.675676</td>\n",
       "      <td>0.670886</td>\n",
       "      <td>1</td>\n",
       "    </tr>\n",
       "    <tr>\n",
       "      <th>1428</th>\n",
       "      <td>0.198536</td>\n",
       "      <td>0.540541</td>\n",
       "      <td>0.544304</td>\n",
       "      <td>0</td>\n",
       "    </tr>\n",
       "    <tr>\n",
       "      <th>...</th>\n",
       "      <td>...</td>\n",
       "      <td>...</td>\n",
       "      <td>...</td>\n",
       "      <td>...</td>\n",
       "    </tr>\n",
       "    <tr>\n",
       "      <th>1058</th>\n",
       "      <td>0.124224</td>\n",
       "      <td>0.639640</td>\n",
       "      <td>0.696203</td>\n",
       "      <td>0</td>\n",
       "    </tr>\n",
       "    <tr>\n",
       "      <th>595</th>\n",
       "      <td>0.248447</td>\n",
       "      <td>0.729730</td>\n",
       "      <td>0.822785</td>\n",
       "      <td>0</td>\n",
       "    </tr>\n",
       "    <tr>\n",
       "      <th>833</th>\n",
       "      <td>0.198536</td>\n",
       "      <td>0.711712</td>\n",
       "      <td>0.708861</td>\n",
       "      <td>0</td>\n",
       "    </tr>\n",
       "    <tr>\n",
       "      <th>471</th>\n",
       "      <td>0.248447</td>\n",
       "      <td>0.693694</td>\n",
       "      <td>0.696203</td>\n",
       "      <td>0</td>\n",
       "    </tr>\n",
       "    <tr>\n",
       "      <th>1216</th>\n",
       "      <td>0.248447</td>\n",
       "      <td>0.630631</td>\n",
       "      <td>0.683544</td>\n",
       "      <td>0</td>\n",
       "    </tr>\n",
       "  </tbody>\n",
       "</table>\n",
       "<p>1370 rows × 4 columns</p>\n",
       "</div>"
      ],
      "text/plain": [
       "          AWND      TMAX      TMIN Occurence\n",
       "108   0.198536  0.801802  0.746835         0\n",
       "1656  0.222937  0.729730  0.810127         0\n",
       "1051  0.148625  0.648649  0.734177         0\n",
       "1529  0.272848  0.675676  0.670886         1\n",
       "1428  0.198536  0.540541  0.544304         0\n",
       "...        ...       ...       ...       ...\n",
       "1058  0.124224  0.639640  0.696203         0\n",
       "595   0.248447  0.729730  0.822785         0\n",
       "833   0.198536  0.711712  0.708861         0\n",
       "471   0.248447  0.693694  0.696203         0\n",
       "1216  0.248447  0.630631  0.683544         0\n",
       "\n",
       "[1370 rows x 4 columns]"
      ]
     },
     "execution_count": 94,
     "metadata": {},
     "output_type": "execute_result"
    },
    {
     "data": {
      "image/png": "[encoded data removed]",
      "text/plain": [
       "<Figure size 640x480 with 1 Axes>"
      ]
     },
     "metadata": {},
     "output_type": "display_data"
    }
   ],
   "source": [
    "X=data1.drop(['PRCP'],axis=1)\n",
    "Y=data1['PRCP']\n",
    "Y=Y.astype('int')\n",
    "chi_scores=chi2(X,Y)\n",
    "p_values = pd.Series(chi_scores[1],index = X.columns)\n",
    "p_values.sort_values(ascending = False , inplace = True)\n",
    "p_values.plot.bar()\n",
    "data1.drop(['WSF5','WSF2','PRCP','WDF2','WDF5'],axis=1)"
   ]
  },
  {
   "cell_type": "code",
   "execution_count": 115,
   "id": "003a3a6e",
   "metadata": {},
   "outputs": [
    {
     "name": "stdout",
     "output_type": "stream",
     "text": [
      "415\n"
     ]
    }
   ],
   "source": [
    "from sklearn import neighbors,metrics\n",
    "from sklearn.metrics import roc_auc_score\n",
    "knn=neighbors.KNeighborsClassifier(n_neighbors=35,weights='distance')\n",
    "\n",
    "a=np.array(x_train)\n",
    "b=np.array(data1['Occurence'])\n",
    "c=np.array(x_test)\n",
    "d=np.array(y_test)\n",
    "a=a.reshape(-1,1)\n",
    "b=b.reshape(-1,1)\n",
    "c=c.reshape(-1,1)\n",
    "knn.fit(a,b.ravel())\n",
    "t=0\n",
    "prediction=knn.predict(c)\n",
    "for i in range(1,457):\n",
    "    if prediction[i]==d[i,9]:\n",
    "        t=t+1\n",
    "print(t)\n"
   ]
  },
  {
   "cell_type": "code",
   "execution_count": 116,
   "id": "b8efdc02",
   "metadata": {},
   "outputs": [
    {
     "name": "stdout",
     "output_type": "stream",
     "text": [
      "0.5640008462921823\n"
     ]
    }
   ],
   "source": [
    "j=metrics.roc_auc_score(d[0:457,9],prediction)\n",
    "print(j)"
   ]
  },
  {
   "cell_type": "code",
   "execution_count": 10,
   "id": "508f3402",
   "metadata": {},
   "outputs": [
    {
     "data": {
      "text/plain": [
       "457"
      ]
     },
     "execution_count": 10,
     "metadata": {},
     "output_type": "execute_result"
    }
   ],
   "source": []
  },
  {
   "cell_type": "code",
   "execution_count": null,
   "id": "d207c4d3",
   "metadata": {},
   "outputs": [],
   "source": []
  }
 ],
 "metadata": {
  "kernelspec": {
   "display_name": "Python 3 (ipykernel)",
   "language": "python",
   "name": "python3"
  },
  "language_info": {
   "codemirror_mode": {
    "name": "ipython",
    "version": 3
   },
   "file_extension": ".py",
   "mimetype": "text/x-python",
   "name": "python",
   "nbconvert_exporter": "python",
   "pygments_lexer": "ipython3",
   "version": "3.9.13"
  }
 },
 "nbformat": 4,
 "nbformat_minor": 5
}
